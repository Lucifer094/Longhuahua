{
 "cells": [
  {
   "cell_type": "code",
   "execution_count": 14,
   "metadata": {},
   "outputs": [],
   "source": [
    "import AHP\n",
    "import numpy as np"
   ]
  },
  {
   "cell_type": "markdown",
   "metadata": {},
   "source": [
    "# 1.创建矩阵"
   ]
  },
  {
   "cell_type": "code",
   "execution_count": 69,
   "metadata": {},
   "outputs": [
    {
     "data": {
      "text/plain": [
       "array([[1.        , 2.        , 3.        , 5.        ],\n",
       "       [0.5       , 1.        , 2.        , 5.        ],\n",
       "       [0.33333333, 0.5       , 1.        , 1.        ],\n",
       "       [0.2       , 0.2       , 1.        , 1.        ]])"
      ]
     },
     "execution_count": 69,
     "metadata": {},
     "output_type": "execute_result"
    }
   ],
   "source": [
    "A = np.random.randint(1, 9,[4, 4])\n",
    "A = A.astype(np.float)\n",
    "for i in range(4):\n",
    "    for j in range(i,4):\n",
    "        if(i == j):\n",
    "            A[j, i] = 1\n",
    "        else:\n",
    "            A[j, i] = 1/A[i,j]\n",
    "A"
   ]
  },
  {
   "cell_type": "markdown",
   "metadata": {},
   "source": [
    "# 2.一致性检验"
   ]
  },
  {
   "cell_type": "code",
   "execution_count": 113,
   "metadata": {},
   "outputs": [
    {
     "name": "stdout",
     "output_type": "stream",
     "text": [
      "最大的特征值: 4.1053\n",
      "对应的特征向量为: [0.806  0.5258 0.2218 0.1572]\n",
      "归一化后得到权重向量: [0.4711 0.3073 0.1296 0.0919]\n"
     ]
    }
   ],
   "source": [
    "AAHP = AHP.AHP(A)\n",
    "WA = AAHP.get_eig()"
   ]
  },
  {
   "cell_type": "code",
   "execution_count": 72,
   "metadata": {},
   "outputs": [
    {
     "name": "stdout",
     "output_type": "stream",
     "text": [
      "判断矩阵的CI值为0.0351\n",
      "判断矩阵的RI值为0.9\n",
      "判断矩阵的CR值为0.039，通过一致性检验\n"
     ]
    },
    {
     "data": {
      "text/plain": [
       "True"
      ]
     },
     "execution_count": 72,
     "metadata": {},
     "output_type": "execute_result"
    }
   ],
   "source": [
    "AAHP.test_consitst()"
   ]
  },
  {
   "cell_type": "markdown",
   "metadata": {},
   "source": [
    "# 3.层一致性检验"
   ]
  },
  {
   "cell_type": "markdown",
   "metadata": {},
   "source": [
    "## 3.1.创建并检验AA1"
   ]
  },
  {
   "cell_type": "code",
   "execution_count": 89,
   "metadata": {},
   "outputs": [
    {
     "data": {
      "text/plain": [
       "array([[1. , 1. , 2. ],\n",
       "       [1. , 1. , 1. ],\n",
       "       [0.5, 1. , 1. ]])"
      ]
     },
     "execution_count": 89,
     "metadata": {},
     "output_type": "execute_result"
    }
   ],
   "source": [
    "AA1 = np.random.randint(1, 9,[3, 3])\n",
    "AA1 = AA1.astype(np.float)\n",
    "for i in range(3):\n",
    "    for j in range(i,3):\n",
    "        if(i == j):\n",
    "            AA1[j, i] = 1\n",
    "        else:\n",
    "            AA1[j, i] = 1/AA1[i,j]\n",
    "AA1"
   ]
  },
  {
   "cell_type": "code",
   "execution_count": 115,
   "metadata": {},
   "outputs": [
    {
     "name": "stdout",
     "output_type": "stream",
     "text": [
      "最大的特征值: 3.0536\n",
      "对应的特征向量为: [0.7024 0.5575 0.4425]\n",
      "归一化后得到权重向量: [0.4126 0.3275 0.2599]\n"
     ]
    }
   ],
   "source": [
    "AA1AHP = AHP.AHP(AA1)\n",
    "WAA1 = AA1AHP.get_eig()"
   ]
  },
  {
   "cell_type": "code",
   "execution_count": 91,
   "metadata": {},
   "outputs": [
    {
     "name": "stdout",
     "output_type": "stream",
     "text": [
      "判断矩阵的CI值为0.0268\n",
      "判断矩阵的RI值为0.58\n",
      "判断矩阵的CR值为0.0462，通过一致性检验\n"
     ]
    },
    {
     "data": {
      "text/plain": [
       "True"
      ]
     },
     "execution_count": 91,
     "metadata": {},
     "output_type": "execute_result"
    }
   ],
   "source": [
    "AA1AHP.test_consitst()"
   ]
  },
  {
   "cell_type": "markdown",
   "metadata": {},
   "source": [
    "## 3.2.创建并检验AA2"
   ]
  },
  {
   "cell_type": "code",
   "execution_count": 98,
   "metadata": {},
   "outputs": [
    {
     "data": {
      "text/plain": [
       "array([[1.   , 8.   , 8.   ],\n",
       "       [0.125, 1.   , 1.   ],\n",
       "       [0.125, 1.   , 1.   ]])"
      ]
     },
     "execution_count": 98,
     "metadata": {},
     "output_type": "execute_result"
    }
   ],
   "source": [
    "AA2 = np.random.randint(1, 9,[3, 3])\n",
    "AA2 = AA2.astype(np.float)\n",
    "for i in range(3):\n",
    "    for j in range(i,3):\n",
    "        if(i == j):\n",
    "            AA2[j, i] = 1\n",
    "        else:\n",
    "            AA2[j, i] = 1/AA2[i,j]\n",
    "AA2"
   ]
  },
  {
   "cell_type": "code",
   "execution_count": 116,
   "metadata": {},
   "outputs": [
    {
     "name": "stdout",
     "output_type": "stream",
     "text": [
      "最大的特征值: 3.0\n",
      "对应的特征向量为: [0.9847 0.1231 0.1231]\n",
      "归一化后得到权重向量: [0.8 0.1 0.1]\n"
     ]
    }
   ],
   "source": [
    "AA2AHP = AHP.AHP(AA2)\n",
    "WAA2 = AA2AHP.get_eig()"
   ]
  },
  {
   "cell_type": "code",
   "execution_count": 100,
   "metadata": {},
   "outputs": [
    {
     "name": "stdout",
     "output_type": "stream",
     "text": [
      "判断矩阵的CI值为0.0\n",
      "判断矩阵的RI值为0.58\n",
      "判断矩阵的CR值为0.0，通过一致性检验\n"
     ]
    },
    {
     "data": {
      "text/plain": [
       "True"
      ]
     },
     "execution_count": 100,
     "metadata": {},
     "output_type": "execute_result"
    }
   ],
   "source": [
    "AA2AHP.test_consitst()"
   ]
  },
  {
   "cell_type": "markdown",
   "metadata": {},
   "source": [
    "## 3.3.创建并检验AA3"
   ]
  },
  {
   "cell_type": "code",
   "execution_count": 104,
   "metadata": {},
   "outputs": [
    {
     "data": {
      "text/plain": [
       "array([[1.        , 1.        , 7.        ],\n",
       "       [1.        , 1.        , 7.        ],\n",
       "       [0.14285714, 0.14285714, 1.        ]])"
      ]
     },
     "execution_count": 104,
     "metadata": {},
     "output_type": "execute_result"
    }
   ],
   "source": [
    "AA3 = np.random.randint(1, 9,[3, 3])\n",
    "AA3 = AA3.astype(np.float)\n",
    "for i in range(3):\n",
    "    for j in range(i,3):\n",
    "        if(i == j):\n",
    "            AA3[j, i] = 1\n",
    "        else:\n",
    "            AA3[j, i] = 1/AA3[i,j]\n",
    "AA3"
   ]
  },
  {
   "cell_type": "code",
   "execution_count": 117,
   "metadata": {},
   "outputs": [
    {
     "name": "stdout",
     "output_type": "stream",
     "text": [
      "最大的特征值: 3.0\n",
      "对应的特征向量为: [0.7035 0.7035 0.1005]\n",
      "归一化后得到权重向量: [0.4667 0.4667 0.0667]\n"
     ]
    }
   ],
   "source": [
    "AA3AHP = AHP.AHP(AA3)\n",
    "WAA3 = AA3AHP.get_eig()"
   ]
  },
  {
   "cell_type": "code",
   "execution_count": 106,
   "metadata": {},
   "outputs": [
    {
     "name": "stdout",
     "output_type": "stream",
     "text": [
      "判断矩阵的CI值为0.0\n",
      "判断矩阵的RI值为0.58\n",
      "判断矩阵的CR值为0.0，通过一致性检验\n"
     ]
    },
    {
     "data": {
      "text/plain": [
       "True"
      ]
     },
     "execution_count": 106,
     "metadata": {},
     "output_type": "execute_result"
    }
   ],
   "source": [
    "AA3AHP.test_consitst()"
   ]
  },
  {
   "cell_type": "markdown",
   "metadata": {},
   "source": [
    "## 3.4.创建并检验AA4"
   ]
  },
  {
   "cell_type": "code",
   "execution_count": 110,
   "metadata": {},
   "outputs": [
    {
     "data": {
      "text/plain": [
       "array([[1.        , 4.        , 6.        ],\n",
       "       [0.25      , 1.        , 2.        ],\n",
       "       [0.16666667, 0.5       , 1.        ]])"
      ]
     },
     "execution_count": 110,
     "metadata": {},
     "output_type": "execute_result"
    }
   ],
   "source": [
    "AA4 = np.random.randint(1, 9,[3, 3])\n",
    "AA4 = AA4.astype(np.float)\n",
    "for i in range(3):\n",
    "    for j in range(i,3):\n",
    "        if(i == j):\n",
    "            AA4[j, i] = 1\n",
    "        else:\n",
    "            AA4[j, i] = 1/AA4[i,j]\n",
    "AA4"
   ]
  },
  {
   "cell_type": "code",
   "execution_count": 118,
   "metadata": {},
   "outputs": [
    {
     "name": "stdout",
     "output_type": "stream",
     "text": [
      "最大的特征值: 3.0092\n",
      "对应的特征向量为: [0.9541 0.2625 0.1445]\n",
      "归一化后得到权重向量: [0.701  0.1929 0.1062]\n"
     ]
    }
   ],
   "source": [
    "AA4AHP = AHP.AHP(AA4)\n",
    "WAA4 = AA4AHP.get_eig()"
   ]
  },
  {
   "cell_type": "code",
   "execution_count": 112,
   "metadata": {},
   "outputs": [
    {
     "name": "stdout",
     "output_type": "stream",
     "text": [
      "判断矩阵的CI值为0.0046\n",
      "判断矩阵的RI值为0.58\n",
      "判断矩阵的CR值为0.0079，通过一致性检验\n"
     ]
    },
    {
     "data": {
      "text/plain": [
       "True"
      ]
     },
     "execution_count": 112,
     "metadata": {},
     "output_type": "execute_result"
    }
   ],
   "source": [
    "AA4AHP.test_consitst()"
   ]
  },
  {
   "cell_type": "markdown",
   "metadata": {},
   "source": [
    "# 4.计算权重并排序"
   ]
  },
  {
   "cell_type": "code",
   "execution_count": 134,
   "metadata": {},
   "outputs": [
    {
     "data": {
      "text/plain": [
       "array([0.56512208, 0.26322708, 0.17157299])"
      ]
     },
     "execution_count": 134,
     "metadata": {},
     "output_type": "execute_result"
    }
   ],
   "source": [
    "B = np.zeros([3])\n",
    "for i in range(3):\n",
    "    B[i] = WAA1[i]*WA[0] + WAA2[i]*WA[1] + WAA3[i]*WA[2] + WAA4[i]*WA[3]\n",
    "B"
   ]
  },
  {
   "cell_type": "code",
   "execution_count": null,
   "metadata": {},
   "outputs": [],
   "source": []
  }
 ],
 "metadata": {
  "kernelspec": {
   "display_name": "tensorflow",
   "language": "python",
   "name": "tensorflow"
  },
  "language_info": {
   "codemirror_mode": {
    "name": "ipython",
    "version": 3
   },
   "file_extension": ".py",
   "mimetype": "text/x-python",
   "name": "python",
   "nbconvert_exporter": "python",
   "pygments_lexer": "ipython3",
   "version": "3.7.6"
  }
 },
 "nbformat": 4,
 "nbformat_minor": 4
}
